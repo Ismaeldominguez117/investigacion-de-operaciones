{
  "nbformat": 4,
  "nbformat_minor": 0,
  "metadata": {
    "colab": {
      "name": "actividad-01.ipynb",
      "provenance": [],
      "collapsed_sections": [],
      "authorship_tag": "ABX9TyPNIJPxs51L/La6wyIbc638",
      "include_colab_link": true
    },
    "kernelspec": {
      "name": "python3",
      "display_name": "Python 3"
    },
    "language_info": {
      "name": "python"
    }
  },
  "cells": [
    {
      "cell_type": "markdown",
      "metadata": {
        "id": "view-in-github",
        "colab_type": "text"
      },
      "source": [
        "<a href=\"https://colab.research.google.com/github/Ismaeldominguez117/investigacion-de-operaciones/blob/main/actividad_01.ipynb\" target=\"_parent\"><img src=\"https://colab.research.google.com/assets/colab-badge.svg\" alt=\"Open In Colab\"/></a>"
      ]
    },
    {
      "cell_type": "markdown",
      "source": [
        "resolucion de sistemas de ecuaciones "
      ],
      "metadata": {
        "id": "ZiB5lxA42_jW"
      }
    },
    {
      "cell_type": "code",
      "source": [
        "#librerias\n",
        "\n",
        "import pandas as pd \n",
        "import numpy as np\n",
        "import matplotlib.pyplot as plt\n",
        "\n",
        "\n"
      ],
      "metadata": {
        "id": "ogdsJPfM3Il2"
      },
      "execution_count": 15,
      "outputs": []
    },
    {
      "cell_type": "markdown",
      "source": [
        "primer ejercicio"
      ],
      "metadata": {
        "id": "gazAD83Z5ifC"
      }
    },
    {
      "cell_type": "code",
      "source": [
        "x = np.array ((50,600))"
      ],
      "metadata": {
        "id": "N8usxbIz5oit"
      },
      "execution_count": 16,
      "outputs": []
    },
    {
      "cell_type": "code",
      "source": [
        "y1 = -x + 600\n",
        "print(y1)"
      ],
      "metadata": {
        "colab": {
          "base_uri": "https://localhost:8080/"
        },
        "id": "jgulk0l89cRv",
        "outputId": "95c0b668-05c3-4a0c-c1f2-1dacbb59227f"
      },
      "execution_count": 17,
      "outputs": [
        {
          "output_type": "stream",
          "name": "stdout",
          "text": [
            "[550   0]\n"
          ]
        }
      ]
    },
    {
      "cell_type": "code",
      "source": [
        "y2 = 2*x\n",
        "print(y2)"
      ],
      "metadata": {
        "colab": {
          "base_uri": "https://localhost:8080/"
        },
        "id": "e9BctR0U9cik",
        "outputId": "76040850-f1c7-467c-f8b5-ef7cc92baaed"
      },
      "execution_count": 18,
      "outputs": [
        {
          "output_type": "stream",
          "name": "stdout",
          "text": [
            "[ 100 1200]\n"
          ]
        }
      ]
    },
    {
      "cell_type": "markdown",
      "source": [
        "grafico"
      ],
      "metadata": {
        "id": "a7YBh91n_Ie_"
      }
    },
    {
      "cell_type": "code",
      "source": [
        "fig=plt.figure(figsize=(8,5))\n",
        "plt.plot (x,y1, lw=2, color=\"skyblue\", label= \"$y_{1}=-x + 600$\")\n",
        "plt.plot (x,y2, lw=2, color=\"olive\", label= \"$y_{2}= 2x$\")\n",
        "\n",
        "plt.title (\"sistemas de ecuaciones\")\n",
        "plt.xlabel(\"$x$\", fontsize=14)\n",
        "plt.xlabel(\"$x$\", fontsize=14)\n",
        "plt.grid(True)\n",
        "plt.legend()\n",
        "plt.savefig (\"grafico - 01.png\", format=\"PNG\", dpi=320)\n",
        "plt.show()"
      ],
      "metadata": {
        "colab": {
          "base_uri": "https://localhost:8080/",
          "height": 354
        },
        "id": "_6evVNEG9c3e",
        "outputId": "a3fefa28-a411-4262-d485-6abea1a14a84"
      },
      "execution_count": 19,
      "outputs": [
        {
          "output_type": "display_data",
          "data": {
            "text/plain": [
              "<Figure size 576x360 with 1 Axes>"
            ],
            "image/png": "[encoded data removed]"
          },
          "metadata": {
            "needs_background": "light"
          }
        }
      ]
    },
    {
      "cell_type": "markdown",
      "source": [
        "segundo ejercicio"
      ],
      "metadata": {
        "id": "vyeEOtoAGe0v"
      }
    },
    {
      "cell_type": "code",
      "source": [
        "x1 = np.array([0,5])\n",
        "print(x1)"
      ],
      "metadata": {
        "id": "QYliQUQu9dBx",
        "colab": {
          "base_uri": "https://localhost:8080/"
        },
        "outputId": "ce8a5fd0-fe45-4ddc-f238-70f318df4db3"
      },
      "execution_count": 20,
      "outputs": [
        {
          "output_type": "stream",
          "name": "stdout",
          "text": [
            "[0 5]\n"
          ]
        }
      ]
    },
    {
      "cell_type": "code",
      "source": [
        "y3 = -2*x1 + 5\n",
        "print(y3)"
      ],
      "metadata": {
        "id": "tE3bztfU9dKb",
        "colab": {
          "base_uri": "https://localhost:8080/"
        },
        "outputId": "13519d0a-a1ee-4108-c405-8060e95010b3"
      },
      "execution_count": 22,
      "outputs": [
        {
          "output_type": "stream",
          "name": "stdout",
          "text": [
            "[ 5 -5]\n"
          ]
        }
      ]
    },
    {
      "cell_type": "code",
      "source": [
        "y4 = (3*x1-4)/2\n",
        "print(y4)"
      ],
      "metadata": {
        "colab": {
          "base_uri": "https://localhost:8080/"
        },
        "id": "UGDmH-N4Ha22",
        "outputId": "43770a7a-fa7b-4f55-bc4f-0930cf77a58a"
      },
      "execution_count": 23,
      "outputs": [
        {
          "output_type": "stream",
          "name": "stdout",
          "text": [
            "[-2.   5.5]\n"
          ]
        }
      ]
    },
    {
      "cell_type": "markdown",
      "source": [
        "GRAFICO"
      ],
      "metadata": {
        "id": "hZTdtIfYIjMo"
      }
    },
    {
      "cell_type": "code",
      "source": [
        "fig= plt.figure(figsize=(10,5))\n",
        "plt.plot(x1,y3, color=\"indigo\", lw=2, label= \"$y_{1} = -2x+5$\")\n",
        "plt.plot(x1,y4, color=\"orchid\", lw=2, label= \"$y_{2}= (3x-4)/2$\")\n",
        "\n",
        "\n",
        "yticks = np.arange(-3, 6, 1)\n",
        "plt.yticks(yticks)\n",
        "\n",
        "plt.title (\"sistema de Ecuaciones\")\n",
        "plt.xlabel (\"$x$\")\n",
        "plt.ylabel (\"$y$\")\n",
        "plt.grid(True)\n",
        "plt.legend()\n",
        "plt.show()"
      ],
      "metadata": {
        "colab": {
          "base_uri": "https://localhost:8080/",
          "height": 350
        },
        "id": "r6T3UK4MHbAx",
        "outputId": "a8110826-20b4-4cea-d4a5-73c4a9e0c112"
      },
      "execution_count": 31,
      "outputs": [
        {
          "output_type": "display_data",
          "data": {
            "text/plain": [
              "<Figure size 720x360 with 1 Axes>"
            ],
            "image/png": "[encoded data removed]"
          },
          "metadata": {
            "needs_background": "light"
          }
        }
      ]
    },
    {
      "cell_type": "code",
      "source": [
        ""
      ],
      "metadata": {
        "id": "yBhQZUc1HbIB"
      },
      "execution_count": 21,
      "outputs": []
    }
  ]
}