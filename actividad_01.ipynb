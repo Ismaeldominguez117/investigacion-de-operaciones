{
  "nbformat": 4,
  "nbformat_minor": 0,
  "metadata": {
    "colab": {
      "name": "actividad-01.ipynb",
      "provenance": [],
      "collapsed_sections": [],
      "authorship_tag": "ABX9TyN6TEJ5XcP0VFs3HvrgU8hl",
      "include_colab_link": true
    },
    "kernelspec": {
      "name": "python3",
      "display_name": "Python 3"
    },
    "language_info": {
      "name": "python"
    }
  },
  "cells": [
    {
      "cell_type": "markdown",
      "metadata": {
        "id": "view-in-github",
        "colab_type": "text"
      },
      "source": [
        "<a href=\"https://colab.research.google.com/github/Ismaeldominguez117/investigacion-de-operaciones/blob/main/actividad_01.ipynb\" target=\"_parent\"><img src=\"https://colab.research.google.com/assets/colab-badge.svg\" alt=\"Open In Colab\"/></a>"
      ]
    },
    {
      "cell_type": "markdown",
      "source": [
        "resolucion de sistemas de ecuaciones "
      ],
      "metadata": {
        "id": "ZiB5lxA42_jW"
      }
    },
    {
      "cell_type": "code",
      "source": [
        "#librerias\n",
        "\n",
        "import pandas as pd \n",
        "import numpy as np\n",
        "import matplotlib.pyplot as plt\n",
        "\n",
        "\n"
      ],
      "metadata": {
        "id": "ogdsJPfM3Il2"
      },
      "execution_count": null,
      "outputs": []
    },
    {
      "cell_type": "markdown",
      "source": [
        "primer ejercicio"
      ],
      "metadata": {
        "id": "gazAD83Z5ifC"
      }
    },
    {
      "cell_type": "code",
      "source": [
        "x = np.array ((50,600))"
      ],
      "metadata": {
        "id": "N8usxbIz5oit"
      },
      "execution_count": null,
      "outputs": []
    },
    {
      "cell_type": "code",
      "source": [
        "y1 = -x + 600\n",
        "print(y1)"
      ],
      "metadata": {
        "colab": {
          "base_uri": "https://localhost:8080/"
        },
        "id": "jgulk0l89cRv",
        "outputId": "24544028-e441-47d0-83af-91ab231fd9d2"
      },
      "execution_count": null,
      "outputs": [
        {
          "output_type": "stream",
          "name": "stdout",
          "text": [
            "[550   0]\n"
          ]
        }
      ]
    },
    {
      "cell_type": "code",
      "source": [
        "y2 = 2*x\n",
        "print(y2)"
      ],
      "metadata": {
        "colab": {
          "base_uri": "https://localhost:8080/"
        },
        "id": "e9BctR0U9cik",
        "outputId": "7c54342a-f04c-41ad-a137-6abbd3b21835"
      },
      "execution_count": null,
      "outputs": [
        {
          "output_type": "stream",
          "name": "stdout",
          "text": [
            "[ 100 1200]\n"
          ]
        }
      ]
    },
    {
      "cell_type": "markdown",
      "source": [
        "grafico"
      ],
      "metadata": {
        "id": "a7YBh91n_Ie_"
      }
    },
    {
      "cell_type": "code",
      "source": [
        "fig = plt.figure(figsize=(8,5))\n",
        "plt.plot (x,y1, lw=2, label= \"$y_{1}=-x + 600$\")\n",
        "plt.plot (x,y2, lw=2, label= \"$y_{2}= 2x$\")\n",
        "\n",
        "plt.title (\"sistemas de ecuaciones\")\n",
        "plt.xlabel(\"$x$\", fontsize=14)\n",
        "plt.xlabel(\"$x$\", fontsize=14)\n",
        "plt.grid(True)\n",
        "plt.legend()\n",
        "plt.savefig (\"grafico - 01.png\", format=\"PNG\", dpi=320)\n",
        "plt.show()"
      ],
      "metadata": {
        "colab": {
          "base_uri": "https://localhost:8080/",
          "height": 354
        },
        "id": "_6evVNEG9c3e",
        "outputId": "9c1bee02-168e-40ba-8f34-5850a913ed33"
      },
      "execution_count": null,
      "outputs": [
        {
          "output_type": "display_data",
          "data": {
            "text/plain": [
              "<Figure size 576x360 with 1 Axes>"
            ],
            "image/png": "[encoded data removed]"
          },
          "metadata": {
            "needs_background": "light"
          }
        }
      ]
    },
    {
      "cell_type": "code",
      "source": [
        ""
      ],
      "metadata": {
        "id": "QYliQUQu9dBx"
      },
      "execution_count": null,
      "outputs": []
    },
    {
      "cell_type": "code",
      "source": [
        ""
      ],
      "metadata": {
        "id": "tE3bztfU9dKb"
      },
      "execution_count": null,
      "outputs": []
    }
  ]
}